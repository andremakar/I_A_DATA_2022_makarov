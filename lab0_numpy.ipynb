{
 "cells": [
  {
   "cell_type": "markdown",
   "id": "7f265247",
   "metadata": {},
   "source": [
    "Numpy\n",
    "\n",
    "Выполнил:6131 010402D, Макаров Андрей Романович \n",
    "\n",
    "1 ЧАСТЬ\n",
    "\n",
    "Взять из документации по numpy 12 любых функций / методов / операторов и продемонстрировать их работу. Для каждой функции добавить комментарий."
   ]
  },
  {
   "cell_type": "code",
   "execution_count": 1,
   "id": "4c0e8049",
   "metadata": {},
   "outputs": [],
   "source": [
    "import numpy as np"
   ]
  },
  {
   "cell_type": "markdown",
   "id": "abf7555e",
   "metadata": {},
   "source": [
    "12 методов библиотеки numpy"
   ]
  },
  {
   "cell_type": "code",
   "execution_count": 2,
   "id": "560ee401",
   "metadata": {},
   "outputs": [
    {
     "data": {
      "text/plain": [
       "(array([[0., 0., 0.],\n",
       "        [0., 0., 0.],\n",
       "        [0., 0., 0.]]),\n",
       " array([1, 2, 3, 5, 6, 7]),\n",
       " array([[2, 2, 2],\n",
       "        [4, 4, 4]], dtype=int16),\n",
       " dtype('int16'),\n",
       " dtype('int32'))"
      ]
     },
     "execution_count": 2,
     "metadata": {},
     "output_type": "execute_result"
    }
   ],
   "source": [
    "# 2/12\n",
    "\n",
    "\"\"\"\n",
    "Создали 3 массива, 1 из нулей и остальные какие захотели,\n",
    "в конце вывели тип 3го b 2го массива\n",
    "\"\"\"\n",
    "l_zer = np.zeros((3,3))           \n",
    "l_m = np.array([1,2,3,5,6,7])     \n",
    "l_m2 = np.array([(2,2,2),(4,4,4)], dtype = \"int16\")\n",
    "\n",
    "l_zer, l_m, l_m2, l_m2.dtype, l_m.dtype"
   ]
  },
  {
   "cell_type": "code",
   "execution_count": null,
   "id": "5cdcc910",
   "metadata": {},
   "outputs": [],
   "source": []
  },
  {
   "cell_type": "code",
   "execution_count": 28,
   "id": "ac1f2082",
   "metadata": {},
   "outputs": [
    {
     "data": {
      "text/plain": [
       "(array([[ 0,  1,  2,  3],\n",
       "        [ 4,  5,  6,  7],\n",
       "        [ 8,  9, 10, 11],\n",
       "        [12, 13, 14, 15]]),\n",
       " array([[4, 2, 1, 1],\n",
       "        [1, 3, 5, 3],\n",
       "        [4, 4, 2, 3],\n",
       "        [4, 2, 2, 2]]))"
      ]
     },
     "execution_count": 28,
     "metadata": {},
     "output_type": "execute_result"
    }
   ],
   "source": [
    "# 5/12\n",
    "\"\"\"\n",
    "Несколько оперраций с двумя массивами одинакового размера \n",
    "\"\"\"\n",
    "m1 = np.arange(16).reshape(4,4)\n",
    "m2 = np.random.normal(3, 1, (4,4))\n",
    "m2 = m2.astype(\"int32\") #Привели рандомные числа к интам,были флоаты\n",
    "m1, m2"
   ]
  },
  {
   "cell_type": "code",
   "execution_count": 35,
   "id": "eca69684",
   "metadata": {},
   "outputs": [
    {
     "name": "stderr",
     "output_type": "stream",
     "text": [
      "C:\\Users\\anma\\AppData\\Local\\Temp/ipykernel_6584/2729824275.py:1: RuntimeWarning: invalid value encountered in true_divide\n",
      "  m1+m2, m1-m2, m2-m1, m1*m2, m1/m2, m2/m2, m1/m1\n"
     ]
    },
    {
     "data": {
      "text/plain": [
       "(array([[ 4,  3,  3,  4],\n",
       "        [ 5,  8, 11, 10],\n",
       "        [12, 13, 12, 14],\n",
       "        [16, 15, 16, 17]]),\n",
       " array([[-4, -1,  1,  2],\n",
       "        [ 3,  2,  1,  4],\n",
       "        [ 4,  5,  8,  8],\n",
       "        [ 8, 11, 12, 13]]),\n",
       " array([[  4,   1,  -1,  -2],\n",
       "        [ -3,  -2,  -1,  -4],\n",
       "        [ -4,  -5,  -8,  -8],\n",
       "        [ -8, -11, -12, -13]]),\n",
       " array([[ 0,  2,  2,  3],\n",
       "        [ 4, 15, 30, 21],\n",
       "        [32, 36, 20, 33],\n",
       "        [48, 26, 28, 30]]),\n",
       " array([[0.        , 0.5       , 2.        , 3.        ],\n",
       "        [4.        , 1.66666667, 1.2       , 2.33333333],\n",
       "        [2.        , 2.25      , 5.        , 3.66666667],\n",
       "        [3.        , 6.5       , 7.        , 7.5       ]]),\n",
       " array([[1., 1., 1., 1.],\n",
       "        [1., 1., 1., 1.],\n",
       "        [1., 1., 1., 1.],\n",
       "        [1., 1., 1., 1.]]),\n",
       " array([[nan,  1.,  1.,  1.],\n",
       "        [ 1.,  1.,  1.,  1.],\n",
       "        [ 1.,  1.,  1.,  1.],\n",
       "        [ 1.,  1.,  1.,  1.]]))"
      ]
     },
     "execution_count": 35,
     "metadata": {},
     "output_type": "execute_result"
    }
   ],
   "source": [
    "m1+m2, m1-m2, m2-m1, m1*m2, m1/m2, m2/m2, m1/m1 # 0 на 0 ноль делить не надо)))а то получиш НАН"
   ]
  },
  {
   "cell_type": "code",
   "execution_count": 37,
   "id": "d613f7af",
   "metadata": {},
   "outputs": [],
   "source": [
    "# 7/12\n",
    "\"\"\"\n",
    "Сохраним массив в текстовый файл и зазрузим его обратно в другую переменную\n",
    "\"\"\"\n",
    "\n",
    "np.savetxt(\"./arr_m1.txt\", m1)\n",
    "m1_new = np.loadtxt(\"./arr_m1.txt\")"
   ]
  },
  {
   "cell_type": "code",
   "execution_count": 38,
   "id": "c56229bb",
   "metadata": {},
   "outputs": [
    {
     "data": {
      "text/plain": [
       "array([[ 0.,  1.,  2.,  3.],\n",
       "       [ 4.,  5.,  6.,  7.],\n",
       "       [ 8.,  9., 10., 11.],\n",
       "       [12., 13., 14., 15.]])"
      ]
     },
     "execution_count": 38,
     "metadata": {},
     "output_type": "execute_result"
    }
   ],
   "source": [
    "m1_new #получилось, ура"
   ]
  },
  {
   "cell_type": "code",
   "execution_count": 40,
   "id": "b40b846a",
   "metadata": {},
   "outputs": [
    {
     "data": {
      "text/plain": [
       "(array([[False, False, False, False],\n",
       "        [False, False, False, False],\n",
       "        [False, False, False, False],\n",
       "        [False, False, False, False]]),\n",
       " array([[ True,  True,  True,  True],\n",
       "        [ True,  True,  True,  True],\n",
       "        [ True,  True,  True,  True],\n",
       "        [ True,  True,  True,  True]]))"
      ]
     },
     "execution_count": 40,
     "metadata": {},
     "output_type": "execute_result"
    }
   ],
   "source": [
    "\"\"\"\n",
    "Сравним массивы, получим трушки и фолсы\n",
    "\"\"\"\n",
    "m1 == m2, m1 == m1_new"
   ]
  },
  {
   "cell_type": "code",
   "execution_count": 42,
   "id": "3196a0dd",
   "metadata": {},
   "outputs": [
    {
     "data": {
      "text/plain": [
       "(30, 11)"
      ]
     },
     "execution_count": 42,
     "metadata": {},
     "output_type": "execute_result"
    }
   ],
   "source": [
    "# 8/12\n",
    "\"\"\"\n",
    "Сумма диагонали массива\n",
    "\"\"\"\n",
    "np.trace(m1), np.trace(m2)"
   ]
  },
  {
   "cell_type": "code",
   "execution_count": 45,
   "id": "a84d10d4",
   "metadata": {},
   "outputs": [
    {
     "data": {
      "text/plain": [
       "4"
      ]
     },
     "execution_count": 45,
     "metadata": {},
     "output_type": "execute_result"
    }
   ],
   "source": [
    "# 9/12\n",
    "\"\"\"\n",
    "Вернуть матричный ранг массива с помощью метода SVD\n",
    "\"\"\"\n",
    "np.linalg.matrix_rank(m2)"
   ]
  },
  {
   "cell_type": "code",
   "execution_count": 50,
   "id": "850124b3",
   "metadata": {},
   "outputs": [
    {
     "data": {
      "text/plain": [
       "(array([0, 1, 2, 3]),\n",
       " array([4, 4, 5, 3]),\n",
       " array([ 0,  4,  8, 12]),\n",
       " array([4, 5, 4, 4]))"
      ]
     },
     "execution_count": 50,
     "metadata": {},
     "output_type": "execute_result"
    }
   ],
   "source": [
    "# 11/12\n",
    "\"\"\"\n",
    "Вернуть мин.макс. по Х и по У\n",
    "\"\"\"\n",
    "m1.min(axis = 0), m2.max(axis = 0), m1.min(axis = 1), m2.max(axis = 1)"
   ]
  },
  {
   "cell_type": "code",
   "execution_count": 54,
   "id": "5d7bd8f1",
   "metadata": {},
   "outputs": [
    {
     "data": {
      "text/plain": [
       "(array([6., 7., 8., 9.]),\n",
       " array([3.25, 2.75, 2.5 , 2.25]),\n",
       " array([ 1.5,  5.5,  9.5, 13.5]),\n",
       " array([3.25, 2.75, 2.5 , 2.25]))"
      ]
     },
     "execution_count": 54,
     "metadata": {},
     "output_type": "execute_result"
    }
   ],
   "source": [
    "# 12/12\n",
    "\"\"\"\n",
    "Вычислить среднее арифметическое вдоль указанной оси.\n",
    "\"\"\"\n",
    "m1.mean(axis = 0), m2.mean(axis = 0), m1.mean(axis = 1), m2.mean(axis = 0)"
   ]
  },
  {
   "cell_type": "code",
   "execution_count": null,
   "id": "bac27c00",
   "metadata": {},
   "outputs": [],
   "source": []
  },
  {
   "cell_type": "markdown",
   "id": "9902f2f0",
   "metadata": {},
   "source": [
    "2 ЧАСТЬ\n",
    "\n",
    "Сгенерировать OLAP-куб, где фиксируем продажи товаров в розничной сети по магазинам. Оси: 0: ID группы товаров 1: ID магазина 2: день месяца, в котором осуществляются продажи (предположим у нас в OLAP-кубе собраны продажи за месяц)."
   ]
  },
  {
   "cell_type": "code",
   "execution_count": 62,
   "id": "6676efb6",
   "metadata": {},
   "outputs": [],
   "source": [
    "tovar_id = 10\n",
    "magazin_id = 10\n",
    "days_m = 30\n",
    "days_y = 7\n",
    "price = 50000"
   ]
  },
  {
   "cell_type": "code",
   "execution_count": 90,
   "id": "dd772e47",
   "metadata": {},
   "outputs": [
    {
     "data": {
      "text/plain": [
       "array([[[0., 0., 0., ..., 0., 0., 0.],\n",
       "        [0., 0., 0., ..., 0., 0., 0.],\n",
       "        [0., 0., 0., ..., 0., 0., 0.],\n",
       "        ...,\n",
       "        [0., 0., 0., ..., 0., 0., 0.],\n",
       "        [0., 0., 0., ..., 0., 0., 0.],\n",
       "        [0., 0., 0., ..., 0., 0., 0.]],\n",
       "\n",
       "       [[0., 0., 0., ..., 0., 0., 0.],\n",
       "        [0., 0., 0., ..., 0., 0., 0.],\n",
       "        [0., 0., 0., ..., 0., 0., 0.],\n",
       "        ...,\n",
       "        [0., 0., 0., ..., 0., 0., 0.],\n",
       "        [0., 0., 0., ..., 0., 0., 0.],\n",
       "        [0., 0., 0., ..., 0., 0., 0.]],\n",
       "\n",
       "       [[0., 0., 0., ..., 0., 0., 0.],\n",
       "        [0., 0., 0., ..., 0., 0., 0.],\n",
       "        [0., 0., 0., ..., 0., 0., 0.],\n",
       "        ...,\n",
       "        [0., 0., 0., ..., 0., 0., 0.],\n",
       "        [0., 0., 0., ..., 0., 0., 0.],\n",
       "        [0., 0., 0., ..., 0., 0., 0.]],\n",
       "\n",
       "       ...,\n",
       "\n",
       "       [[0., 0., 0., ..., 0., 0., 0.],\n",
       "        [0., 0., 0., ..., 0., 0., 0.],\n",
       "        [0., 0., 0., ..., 0., 0., 0.],\n",
       "        ...,\n",
       "        [0., 0., 0., ..., 0., 0., 0.],\n",
       "        [0., 0., 0., ..., 0., 0., 0.],\n",
       "        [0., 0., 0., ..., 0., 0., 0.]],\n",
       "\n",
       "       [[0., 0., 0., ..., 0., 0., 0.],\n",
       "        [0., 0., 0., ..., 0., 0., 0.],\n",
       "        [0., 0., 0., ..., 0., 0., 0.],\n",
       "        ...,\n",
       "        [0., 0., 0., ..., 0., 0., 0.],\n",
       "        [0., 0., 0., ..., 0., 0., 0.],\n",
       "        [0., 0., 0., ..., 0., 0., 0.]],\n",
       "\n",
       "       [[0., 0., 0., ..., 0., 0., 0.],\n",
       "        [0., 0., 0., ..., 0., 0., 0.],\n",
       "        [0., 0., 0., ..., 0., 0., 0.],\n",
       "        ...,\n",
       "        [0., 0., 0., ..., 0., 0., 0.],\n",
       "        [0., 0., 0., ..., 0., 0., 0.],\n",
       "        [0., 0., 0., ..., 0., 0., 0.]]])"
      ]
     },
     "execution_count": 90,
     "metadata": {},
     "output_type": "execute_result"
    }
   ],
   "source": [
    "#Создадим олап куб - создадим куб из 0, потом заполним его \n",
    "kub = np.zeros((tovar_id, magazin_id, days_m)) \n",
    "kub"
   ]
  },
  {
   "cell_type": "code",
   "execution_count": 112,
   "id": "31cc4a77",
   "metadata": {},
   "outputs": [],
   "source": [
    "\"\"\"\n",
    "numpy.random.sample(size=None)\n",
    "Из документации -\n",
    "Данная функция создает массив указанной формы и \n",
    "заполняет его случайными числами с плавающей точкой из \n",
    "непрерывного равномерного распределения в интервале [0, 1).\n",
    "\n",
    "\n",
    "сделаем так что бы были случайные разные суммы продаж за неделю\n",
    "\n",
    "\"\"\"\n",
    "\n",
    "rand_prod_y = np.random.sample((tovar_id, days_m))*price"
   ]
  },
  {
   "cell_type": "code",
   "execution_count": 116,
   "id": "83045526",
   "metadata": {},
   "outputs": [
    {
     "data": {
      "text/plain": [
       "array([46564.22962528, 45186.03582941, 24214.65271169, 42716.63350342,\n",
       "       34219.19631823, 35228.88348045, 32213.4308644 , 47213.59111381,\n",
       "        1331.25058693,   725.54360309, 43165.33766614, 26319.05349971,\n",
       "        9563.94723008, 40322.99748753, 42560.96258923,   777.81612623,\n",
       "        7304.51633037,  4458.38473706,  2500.43982143, 18710.12022715,\n",
       "       32623.2474685 , 39454.29479447, 20568.77535437,  5702.382828  ,\n",
       "       10859.58031602, 45965.87239014, 33463.04641421, 18929.31909785,\n",
       "       28840.34836982, 48710.59343468])"
      ]
     },
     "execution_count": 116,
     "metadata": {},
     "output_type": "execute_result"
    }
   ],
   "source": [
    "rand_prod_y[1]"
   ]
  },
  {
   "cell_type": "code",
   "execution_count": 109,
   "id": "0d32986e",
   "metadata": {},
   "outputs": [
    {
     "data": {
      "text/plain": [
       "30"
      ]
     },
     "execution_count": 109,
     "metadata": {},
     "output_type": "execute_result"
    }
   ],
   "source": [
    "len(rand_prod_y[1]) # получил на сколько продали каждого из 10 товаров за 7 дней"
   ]
  },
  {
   "cell_type": "code",
   "execution_count": 117,
   "id": "ca066dff",
   "metadata": {},
   "outputs": [],
   "source": [
    "\"\"\"\n",
    "В каждом из 10 магазинов есть 10 товаров, \n",
    "каждый товар продается в течении 30 дней.\n",
    "Таким образом заполняем OLAP куб \n",
    "и составляем выборку продаж\n",
    "\"\"\"\n",
    "\n",
    "for i in range(magazin_id):\n",
    "    rand_prod_y = np.random.sample((tovar_id, days_m))*price\n",
    "    for j in range(tovar_id):\n",
    "        for g in range(days_m):\n",
    "            kub[i][j][g] = rand_prod_y[j][g]"
   ]
  },
  {
   "cell_type": "code",
   "execution_count": 118,
   "id": "aa41d6e3",
   "metadata": {},
   "outputs": [
    {
     "data": {
      "text/plain": [
       "array([[[28432.26156805, 34316.20923885, 27608.3718903 , ...,\n",
       "         35940.12010962, 30304.64455967,  2583.27443262],\n",
       "        [23704.44497823, 20912.15622365, 46002.70546813, ...,\n",
       "         22074.35492902,  3848.04094562, 19203.94611683],\n",
       "        [ 4322.71136416, 13464.39438919,  4942.30287451, ...,\n",
       "         37953.24992532,  5689.93968756, 34308.41300648],\n",
       "        ...,\n",
       "        [16418.1400121 ,   413.23994814, 13862.72142556, ...,\n",
       "         43254.51446383,  9249.76378194, 46369.41616926],\n",
       "        [20479.40661822, 23712.00811348, 36843.62608071, ...,\n",
       "         40560.32773198,  6113.7777964 , 19791.96192207],\n",
       "        [33938.71420045, 21751.55345066, 17032.51369721, ...,\n",
       "         20371.11433102, 15403.36162224, 42020.3298932 ]],\n",
       "\n",
       "       [[ 1115.27941567, 37839.62954513, 14322.83346287, ...,\n",
       "         24421.10626805,  2457.61066301, 24222.51862775],\n",
       "        [49530.64533642, 35140.44162522, 39881.71847419, ...,\n",
       "         24309.7478969 ,  3183.03571063, 46163.5869618 ],\n",
       "        [ 4425.97877859, 43082.71627634, 22122.72293205, ...,\n",
       "         28327.565872  , 20762.90194139,   690.97976903],\n",
       "        ...,\n",
       "        [11827.05432159, 38494.57257843, 31259.39777252, ...,\n",
       "          1841.63183398,  3468.21896925, 35562.46087907],\n",
       "        [19917.02588143, 40987.45666951, 33064.00896348, ...,\n",
       "         41537.02335643, 21927.07379944,  2889.13836621],\n",
       "        [25784.49125502,  6084.83415572, 23284.29542314, ...,\n",
       "         32669.98502427, 23868.23344978, 46854.34576142]],\n",
       "\n",
       "       [[36858.75369364, 47379.80440159, 44889.71878738, ...,\n",
       "          7129.5842887 , 48474.63225249, 44517.48247002],\n",
       "        [19624.24950982, 47385.62999942, 24675.40697672, ...,\n",
       "         39937.67847858, 42226.53181835, 32720.05475288],\n",
       "        [23208.81572594,  3872.53647254, 19479.68229964, ...,\n",
       "         16681.86973037,  3926.05503049, 24698.9416265 ],\n",
       "        ...,\n",
       "        [28620.46183681,  3805.23221922,  2428.08606171, ...,\n",
       "         25700.48796254, 30357.85213605, 12877.59858465],\n",
       "        [27482.65732076,  1111.11174837, 44893.40886693, ...,\n",
       "          1662.26025233, 48777.67311268, 34570.93343133],\n",
       "        [12117.73037693, 40241.21164335, 24661.25784548, ...,\n",
       "         43563.45464896, 38004.96405752, 43426.22516278]],\n",
       "\n",
       "       ...,\n",
       "\n",
       "       [[26257.66293725, 32112.20806533, 20579.70579664, ...,\n",
       "         35075.31365992, 15166.74280247, 11107.46383377],\n",
       "        [ 9313.68158368,  9979.37200278, 41451.58368259, ...,\n",
       "         13855.95080155, 44920.48226094, 25450.66394404],\n",
       "        [ 7446.07720572, 40572.62738156, 37695.56947653, ...,\n",
       "         20443.79644944,  5727.32753449, 40584.00576819],\n",
       "        ...,\n",
       "        [14715.97445443, 37319.30367286, 16940.81925191, ...,\n",
       "         22262.66258758, 19129.56393525, 41118.63480728],\n",
       "        [41505.36005868, 39323.61646175, 29459.33272474, ...,\n",
       "         48081.11904156, 17725.76210359, 13428.04720638],\n",
       "        [ 3593.72183083,  4164.16056062, 41965.68782094, ...,\n",
       "         20768.86146281, 37853.51997694, 30498.9623466 ]],\n",
       "\n",
       "       [[11886.8627747 ,  6077.91675091, 33070.71772327, ...,\n",
       "          4039.68797967, 30963.1947821 ,   589.56284218],\n",
       "        [37047.51886403, 46909.81341246, 15380.63409894, ...,\n",
       "         44956.45538072, 10027.92075817, 11342.12891957],\n",
       "        [ 8598.98964757, 40934.67596403,  7967.72627223, ...,\n",
       "         36769.5154278 , 34949.34356965,  8469.16376379],\n",
       "        ...,\n",
       "        [ 1006.59034868,  4890.626459  ,  2531.66281572, ...,\n",
       "         29480.88172444, 18395.18286291, 49918.18551509],\n",
       "        [14434.02179472, 45453.21818474, 37125.73652005, ...,\n",
       "         24302.16295746, 39280.02246883,  7636.4190733 ],\n",
       "        [28208.07410186, 12433.74458853,  3698.8459533 , ...,\n",
       "         40462.84283987, 39478.61104106, 25265.47869824]],\n",
       "\n",
       "       [[ 1666.47593   , 36810.72984723, 33285.34511834, ...,\n",
       "         11093.36331781, 44173.60812103,  6977.86837591],\n",
       "        [46160.03766091, 40116.75539054, 31203.88038849, ...,\n",
       "         30961.19211612, 31877.75889339, 17912.12613727],\n",
       "        [19276.10117251, 19717.47955065, 43379.87072113, ...,\n",
       "          2386.91905517, 24124.07689259,  9129.79070525],\n",
       "        ...,\n",
       "        [46863.7989947 , 12631.41645252, 25753.78472073, ...,\n",
       "         28916.44135192, 17984.12500716, 23570.85490635],\n",
       "        [ 6875.08149899, 30101.00111786, 13605.91462141, ...,\n",
       "         26024.16997486, 25392.24512811,  2846.49131909],\n",
       "        [29779.12483532, 42687.30609059, 34412.59673831, ...,\n",
       "          2321.43649029, 21691.98267415, 48330.61363056]]])"
      ]
     },
     "execution_count": 118,
     "metadata": {},
     "output_type": "execute_result"
    }
   ],
   "source": [
    "kub"
   ]
  },
  {
   "cell_type": "code",
   "execution_count": null,
   "id": "4a103621",
   "metadata": {},
   "outputs": [],
   "source": []
  },
  {
   "cell_type": "markdown",
   "id": "b7842155",
   "metadata": {},
   "source": [
    "3 ЧАСТЬ\n",
    "\n",
    "Для получившегося OLAP-куба посчитать суммарные, средние,\n",
    "минимальные и максимальные продажи (на самом деле любые \n",
    "агрегатные функции можно использовать)\n",
    "зафиксировав значения по одной, двум или трём осям"
   ]
  },
  {
   "cell_type": "code",
   "execution_count": 129,
   "id": "1cd7e50d",
   "metadata": {},
   "outputs": [
    {
     "data": {
      "text/plain": [
       "25949.7496905583"
      ]
     },
     "execution_count": 129,
     "metadata": {},
     "output_type": "execute_result"
    }
   ],
   "source": [
    "\"\"\"\n",
    "Возьмем среднее значение выручки товара за 30 дней \n",
    "с идентификатором 3 из 6го магазина\n",
    "\"\"\"\n",
    "np.mean(kub[6][3])  # 6 - id магазина; 3 - id товара, \n",
    "                    #вывод функции np.mean - срреднее значение \n",
    "                    #из 30 чисел массива"
   ]
  },
  {
   "cell_type": "code",
   "execution_count": 136,
   "id": "058cbb23",
   "metadata": {},
   "outputs": [
    {
     "data": {
      "text/plain": [
       "25641.203895690833"
      ]
     },
     "execution_count": 136,
     "metadata": {},
     "output_type": "execute_result"
    }
   ],
   "source": [
    "# этот же товар в 9 магазине по идексу(10 по счету)\n",
    "np.mean(kub[9][3])"
   ]
  },
  {
   "cell_type": "code",
   "execution_count": null,
   "id": "b849fabd",
   "metadata": {},
   "outputs": [],
   "source": []
  },
  {
   "cell_type": "markdown",
   "id": "2d4a03b1",
   "metadata": {},
   "source": [
    "Сделаем графики для \n",
    "сравения по каждому дню - выручки\n",
    "по магазинам товара с индексом 3"
   ]
  },
  {
   "cell_type": "code",
   "execution_count": 137,
   "id": "cd549721",
   "metadata": {},
   "outputs": [],
   "source": [
    "import matplotlib.pyplot as plt"
   ]
  },
  {
   "cell_type": "code",
   "execution_count": 142,
   "id": "5606bb51",
   "metadata": {},
   "outputs": [
    {
     "data": {
      "text/plain": [
       "array([30888.65667305, 34898.44689259, 33781.52643709, 22537.72908157,\n",
       "       20731.94648911, 33188.51792192, 35102.11216758,  3486.07528714,\n",
       "       18949.02276628, 31538.17608866, 13422.13085462, 20294.9358683 ,\n",
       "       33312.48128306,  4584.76641254, 23563.8696786 , 44801.64624639,\n",
       "       10276.69703332,  4526.58173509, 33963.3003939 , 25930.69521496,\n",
       "       24809.38097115, 48218.24434324, 49197.38627043,  8264.94472023,\n",
       "         546.3239692 , 46187.28893549, 20647.81694394, 15625.57178923,\n",
       "       40907.2639205 , 35052.58048154])"
      ]
     },
     "execution_count": 142,
     "metadata": {},
     "output_type": "execute_result"
    }
   ],
   "source": [
    "kub[9][3] #Для проверки, правильно ли построен график"
   ]
  },
  {
   "cell_type": "code",
   "execution_count": 153,
   "id": "fdabd9a4",
   "metadata": {},
   "outputs": [
    {
     "data": {
      "text/plain": [
       "[<matplotlib.lines.Line2D at 0x1c6075d8fd0>]"
      ]
     },
     "execution_count": 153,
     "metadata": {},
     "output_type": "execute_result"
    },
    {
     "data": {
      "image/png": "[encoded data removed]",
      "text/plain": [
       "<Figure size 432x288 with 1 Axes>"
      ]
     },
     "metadata": {
      "needs_background": "light"
     },
     "output_type": "display_data"
    }
   ],
   "source": [
    "fig = plt.figure() #отрисовался корректно\n",
    "plt.plot(range(30), kub[9][3])"
   ]
  },
  {
   "cell_type": "code",
   "execution_count": 154,
   "id": "24158042",
   "metadata": {},
   "outputs": [
    {
     "data": {
      "image/png": "[encoded data removed]",
      "text/plain": [
       "<Figure size 432x288 with 1 Axes>"
      ]
     },
     "metadata": {
      "needs_background": "light"
     },
     "output_type": "display_data"
    }
   ],
   "source": [
    "fig = plt.figure() #возьмем 9й 4й и 1й магазин по индесксу и сравним продажи\n",
    "plt.plot(range(30), kub[9][3])\n",
    "plt.plot(range(30), kub[4][1])\n",
    "plt.plot(range(30), kub[1][2])\n",
    "plt.show()"
   ]
  },
  {
   "cell_type": "code",
   "execution_count": null,
   "id": "1c501c16",
   "metadata": {},
   "outputs": [],
   "source": []
  }
 ],
 "metadata": {
  "kernelspec": {
   "display_name": "Python 3 (ipykernel)",
   "language": "python",
   "name": "python3"
  },
  "language_info": {
   "codemirror_mode": {
    "name": "ipython",
    "version": 3
   },
   "file_extension": ".py",
   "mimetype": "text/x-python",
   "name": "python",
   "nbconvert_exporter": "python",
   "pygments_lexer": "ipython3",
   "version": "3.9.7"
  }
 },
 "nbformat": 4,
 "nbformat_minor": 5
}
