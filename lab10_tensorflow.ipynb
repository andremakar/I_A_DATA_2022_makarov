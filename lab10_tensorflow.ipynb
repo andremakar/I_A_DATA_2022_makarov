{
 "cells": [
  {
   "cell_type": "code",
   "execution_count": 1,
   "metadata": {},
   "outputs": [],
   "source": [
    "import tensorflow as tf\n",
    "import numpy as np\n",
    "import matplotlib.pyplot as plt\n",
    "from tqdm import tqdm\n",
    "from sklearn.utils import shuffle\n",
    "%matplotlib inline\n",
    "from tensorflow.keras.datasets import mnist"
   ]
  },
  {
   "cell_type": "code",
   "execution_count": 2,
   "metadata": {},
   "outputs": [
    {
     "name": "stderr",
     "output_type": "stream",
     "text": [
      "2022-05-29 05:34:06.364767: I tensorflow/stream_executor/cuda/cuda_gpu_executor.cc:936] successful NUMA node read from SysFS had negative value (-1), but there must be at least one NUMA node, so returning NUMA node zero\n",
      "2022-05-29 05:34:06.370888: I tensorflow/stream_executor/cuda/cuda_gpu_executor.cc:936] successful NUMA node read from SysFS had negative value (-1), but there must be at least one NUMA node, so returning NUMA node zero\n",
      "2022-05-29 05:34:06.371330: I tensorflow/stream_executor/cuda/cuda_gpu_executor.cc:936] successful NUMA node read from SysFS had negative value (-1), but there must be at least one NUMA node, so returning NUMA node zero\n"
     ]
    },
    {
     "data": {
      "text/plain": [
       "[PhysicalDevice(name='/physical_device:CPU:0', device_type='CPU'),\n",
       " PhysicalDevice(name='/physical_device:GPU:0', device_type='GPU')]"
      ]
     },
     "execution_count": 2,
     "metadata": {},
     "output_type": "execute_result"
    }
   ],
   "source": [
    "# Инициализировали карточку\n",
    "tf.config.list_physical_devices()"
   ]
  },
  {
   "cell_type": "markdown",
   "metadata": {},
   "source": [
    "#### 0 Базовые операции.\n",
    "\n",
    "#### 0.1 Сгенерируйте три непересекающихся гауссовых облака, используя tf.random. Визуализируйте их разным цветами, используя matplotlib.\n",
    "#### 0.2 Сгенерируйте случайную матрицу 2x2, умножьте каждую точку в облаках на эту матрицу. Повторно визуализируйте облака."
   ]
  },
  {
   "cell_type": "code",
   "execution_count": 3,
   "metadata": {},
   "outputs": [
    {
     "name": "stderr",
     "output_type": "stream",
     "text": [
      "2022-05-29 05:34:06.441240: I tensorflow/core/platform/cpu_feature_guard.cc:151] This TensorFlow binary is optimized with oneAPI Deep Neural Network Library (oneDNN) to use the following CPU instructions in performance-critical operations:  AVX2 FMA\n",
      "To enable them in other operations, rebuild TensorFlow with the appropriate compiler flags.\n",
      "2022-05-29 05:34:06.442671: I tensorflow/stream_executor/cuda/cuda_gpu_executor.cc:936] successful NUMA node read from SysFS had negative value (-1), but there must be at least one NUMA node, so returning NUMA node zero\n",
      "2022-05-29 05:34:06.443539: I tensorflow/stream_executor/cuda/cuda_gpu_executor.cc:936] successful NUMA node read from SysFS had negative value (-1), but there must be at least one NUMA node, so returning NUMA node zero\n",
      "2022-05-29 05:34:06.443980: I tensorflow/stream_executor/cuda/cuda_gpu_executor.cc:936] successful NUMA node read from SysFS had negative value (-1), but there must be at least one NUMA node, so returning NUMA node zero\n",
      "2022-05-29 05:34:06.884397: I tensorflow/stream_executor/cuda/cuda_gpu_executor.cc:936] successful NUMA node read from SysFS had negative value (-1), but there must be at least one NUMA node, so returning NUMA node zero\n",
      "2022-05-29 05:34:06.884677: I tensorflow/stream_executor/cuda/cuda_gpu_executor.cc:936] successful NUMA node read from SysFS had negative value (-1), but there must be at least one NUMA node, so returning NUMA node zero\n",
      "2022-05-29 05:34:06.884899: I tensorflow/stream_executor/cuda/cuda_gpu_executor.cc:936] successful NUMA node read from SysFS had negative value (-1), but there must be at least one NUMA node, so returning NUMA node zero\n",
      "2022-05-29 05:34:06.885114: I tensorflow/core/common_runtime/gpu/gpu_device.cc:1525] Created device /job:localhost/replica:0/task:0/device:GPU:0 with 1817 MB memory:  -> device: 0, name: NVIDIA GeForce RTX 3050 Laptop GPU, pci bus id: 0000:01:00.0, compute capability: 8.6\n"
     ]
    },
    {
     "data": {
      "text/plain": [
       "<matplotlib.collections.PathCollection at 0x7fc690322f40>"
      ]
     },
     "execution_count": 3,
     "metadata": {},
     "output_type": "execute_result"
    },
    {
     "data": {
      "image/png": "[encoded data removed]",
      "text/plain": [
       "<Figure size 432x288 with 1 Axes>"
      ]
     },
     "metadata": {
      "needs_background": "light"
     },
     "output_type": "display_data"
    }
   ],
   "source": [
    "# Для смещения облаков\n",
    "q = 0.05\n",
    "a = 0.03\n",
    "z = 0.06\n",
    "\n",
    "# Формируем облака \n",
    "noise1 = tf.random.normal((6000, 2), stddev=0.01) \n",
    "noise2 = tf.random.normal((6000, 2), stddev=0.01) \n",
    "noise3 = tf.random.normal((6000, 2), stddev=0.01) \n",
    "\n",
    "noise1 = noise1 + tf.convert_to_tensor(np.array([q, q]),dtype='float32')\n",
    "noise2 += tf.convert_to_tensor(np.array([-a, a]),dtype='float32')\n",
    "noise3 += tf.convert_to_tensor(np.array([-z, -z]),dtype='float32')\n",
    "noise1, noise2, noise3 = noise1.numpy(), noise2.numpy(), noise3.numpy()\n",
    "plt.scatter(noise1[:, 0], noise1[:, 1])\n",
    "plt.scatter(noise2[:, 0], noise2[:, 1])\n",
    "plt.scatter(noise3[:, 0], noise3[:, 1])"
   ]
  },
  {
   "cell_type": "code",
   "execution_count": 4,
   "metadata": {},
   "outputs": [],
   "source": [
    "matrix_ = np.random.normal(size = (2,2))\n",
    "matrix_\n",
    "n1_new, n2_new, n3_new = [],[],[]\n",
    "for i in noise1:\n",
    "    n1_new.append(np.matmul(i,matrix_))\n",
    "for i in noise2:\n",
    "    n2_new.append(np.matmul(i,matrix_))\n",
    "for i in noise3:\n",
    "    n3_new.append(np.matmul(i,matrix_))"
   ]
  },
  {
   "cell_type": "code",
   "execution_count": 5,
   "metadata": {},
   "outputs": [
    {
     "data": {
      "text/plain": [
       "<matplotlib.collections.PathCollection at 0x7fc69006c220>"
      ]
     },
     "execution_count": 5,
     "metadata": {},
     "output_type": "execute_result"
    },
    {
     "data": {
      "image/png": "[encoded data removed]",
      "text/plain": [
       "<Figure size 432x288 with 1 Axes>"
      ]
     },
     "metadata": {
      "needs_background": "light"
     },
     "output_type": "display_data"
    }
   ],
   "source": [
    "plt.scatter(n1_new[:][0], n1_new[:][1])\n",
    "plt.scatter(n2_new[:][0], n2_new[:][1])\n",
    "plt.scatter(n3_new[:][0], n3_new[:][1])"
   ]
  },
  {
   "cell_type": "markdown",
   "metadata": {},
   "source": [
    "#### 1 Загрузите датасет Fashion MNIST, используя метод из tf.keras.datasets. Визуализируйте несколько изображений, используя библиотеку matplotlib."
   ]
  },
  {
   "cell_type": "code",
   "execution_count": 6,
   "metadata": {},
   "outputs": [
    {
     "name": "stdout",
     "output_type": "stream",
     "text": [
      "(60000, 28, 28) (60000,) (10000, 28, 28) (10000,)\n",
      "2\n"
     ]
    },
    {
     "data": {
      "image/png": "[encoded data removed]",
      "text/plain": [
       "<Figure size 432x288 with 1 Axes>"
      ]
     },
     "metadata": {
      "needs_background": "light"
     },
     "output_type": "display_data"
    }
   ],
   "source": [
    "(x_train, y_train), (x_test, y_test) = mnist.load_data()\n",
    "print(x_train.shape, y_train.shape, x_test.shape, y_test.shape)\n",
    "plt.imshow(x_train[5], cmap=\"gray\")\n",
    "print(y_train[5])\n"
   ]
  },
  {
   "cell_type": "markdown",
   "metadata": {},
   "source": [
    "#### 2 Нормализуйте данные либо средним и СКО, либо приведя значения пикселей в интервал [-1, 1]."
   ]
  },
  {
   "cell_type": "code",
   "execution_count": 7,
   "metadata": {},
   "outputs": [],
   "source": [
    "# Нормализуем данные\n",
    "# Найдем среднее значение по y_train \n",
    "# и стандартное отклонение от среднего\n",
    "mean, std = np.mean(x_train), np.std(x_train)\n",
    "x_train = (x_train - mean) / std\n",
    "x_test = (x_test - mean) / std"
   ]
  },
  {
   "cell_type": "markdown",
   "metadata": {},
   "source": [
    "#### 3 Создайте обучающий и тестовый TensorFlow Dataset из нормализованного набора данных. К обучающему датасету добавьте перемешивание (.shuffle). К обоим датасетам добавьте генерацию батчей размера 128 (.batch(128))."
   ]
  },
  {
   "cell_type": "code",
   "execution_count": 8,
   "metadata": {},
   "outputs": [
    {
     "name": "stdout",
     "output_type": "stream",
     "text": [
      "(10000, 28, 28) (10000,)\n"
     ]
    },
    {
     "name": "stderr",
     "output_type": "stream",
     "text": [
      "100%|██████████| 78/78 [00:00<00:00, 5844.88it/s]\n"
     ]
    },
    {
     "name": "stdout",
     "output_type": "stream",
     "text": [
      "(60000, 28, 28) (60000,)\n"
     ]
    },
    {
     "name": "stderr",
     "output_type": "stream",
     "text": [
      "100%|██████████| 468/468 [00:00<00:00, 5595.19it/s]\n"
     ]
    }
   ],
   "source": [
    "# Добавили батчи в dataset_test\n",
    "dataset_test = []\n",
    "x_test, y_test = shuffle(x_test, y_test)\n",
    "print(x_test.shape, y_test.shape)\n",
    "batch_size=128\n",
    "n_batches = x_test.shape[0] // batch_size\n",
    "n_remains = x_test.shape[0] - n_batches * batch_size\n",
    "for i in tqdm(range(n_batches)):\n",
    "            x_batch = x_test[i*batch_size:(i+1)*batch_size]\n",
    "            dataset_test.append(x_batch.astype('float32'))\n",
    "if n_remains != 0:\n",
    "                x_batch = x_test[-n_remains:]\n",
    "                dataset_test.append(x_batch.astype('float32'))\n",
    "\n",
    "\n",
    "dataset_train = []\n",
    "x_train, y_train = shuffle(x_train, y_train)\n",
    "print(x_train.shape, y_train.shape)\n",
    "batch_size=128\n",
    "n_batches = x_train.shape[0] // batch_size\n",
    "n_remains = x_train.shape[0] - n_batches * batch_size\n",
    "for i in tqdm(range(n_batches)):\n",
    "            x_batch = x_train[i*batch_size:(i+1)*batch_size]\n",
    "            dataset_train.append(x_batch.astype('float32'))\n",
    "if n_remains != 0:\n",
    "            x_batch = x_train[-n_remains:]\n",
    "            dataset_train.append(x_batch.astype('float32'))\n",
    "dataset_train = np.asarray(dataset_train,dtype=object)\n",
    "dataset_test = np.asarray(dataset_test,dtype=object)"
   ]
  },
  {
   "cell_type": "markdown",
   "metadata": {},
   "source": [
    " #### 4. Напишите класс слоя Flatten, что трансформирует изображения из матричного в векторный вид: [28, 28] -> [28 * 28]. Класс слоя должен наследоваться от tf.Module. Для трансформации тензоров изображений использовать tf.reshape."
   ]
  },
  {
   "cell_type": "code",
   "execution_count": 9,
   "metadata": {},
   "outputs": [],
   "source": [
    "# Класс для решейпа и создания данных для обучения и тестирования ...\n",
    "class Flatten(tf.Module):\n",
    "    def __init__(self):\n",
    "        print(\"Instance Created\")\n",
    "\n",
    "    def __call__(self,x):\n",
    "        x = x.reshape(-1, 28 * 28).astype('float32')\n",
    "        return x"
   ]
  },
  {
   "cell_type": "code",
   "execution_count": 10,
   "metadata": {},
   "outputs": [
    {
     "name": "stdout",
     "output_type": "stream",
     "text": [
      "Instance Created\n"
     ]
    }
   ],
   "source": [
    "flatten = Flatten()"
   ]
  },
  {
   "cell_type": "code",
   "execution_count": 11,
   "metadata": {},
   "outputs": [],
   "source": [
    "x = flatten(dataset_train[1])"
   ]
  },
  {
   "cell_type": "code",
   "execution_count": 12,
   "metadata": {},
   "outputs": [
    {
     "name": "stdout",
     "output_type": "stream",
     "text": [
      "(128, 28, 28)\n",
      "(128, 784)\n"
     ]
    }
   ],
   "source": [
    "print(dataset_train[1].shape)\n",
    "print(x.shape)"
   ]
  },
  {
   "cell_type": "markdown",
   "metadata": {},
   "source": [
    "####     5 Напишите класс линейного слоя Linear, что умножает входной вектор на матрицу весов. Класс слоя должен наследоваться от tf.Module. \n",
    "\n",
    "#### Матрицу весов хранить в tf.Variable. \n",
    "\n",
    "#### Параметры конструктора: in_d - размерность входного вектора, out_d - размерность выходного вектора. В качестве начальной инициализации весов использовать гауссово распределение с СКО=0.01."
   ]
  },
  {
   "cell_type": "markdown",
   "metadata": {},
   "source": [
    "#### 6 Напишите класс модели логистической регрессии LogisticRegression, что компонует в себе слои Linear и Flatten. \n",
    "#### Класс модели должен наследоваться от tf.Module. В качестве функции активации используйте tf.nn.softmax. \n",
    "#### Создайте объект модели и попробуйте с помощью неё классифицировать одно изображение (не забудьте о размерности батча! Она будет равна 1)."
   ]
  },
  {
   "cell_type": "code",
   "execution_count": 13,
   "metadata": {},
   "outputs": [],
   "source": [
    "#Класс слоя модели \n",
    "class Linear(tf.Module):\n",
    "    def __init__(self, in_d, out_d, name=None):\n",
    "        # in_d - input dimensionality\n",
    "        # out_d - output dimensionality\n",
    "        # В случае с tf.Module вызывать конструктор родительского класса обязательно! \n",
    "        super().__init__(name=name)\n",
    "        w = tf.random.normal(shape=[in_d, out_d], stddev=0.01, dtype='float32')\n",
    "        self.w = tf.Variable(w, name='linear')\n",
    "        self.b = tf.Variable(tf.zeros(out_d, dtype='float32') * 0.1, name='bias')\n",
    "        \n",
    "        \n",
    "    def __call__(self, x):\n",
    "        return tf.matmul(x, self.w) + self.b\n",
    "\n",
    "class LogisticRegression(tf.Module):\n",
    "    def __init__(self, in_d, out_d, name=None):\n",
    "        # in_d - input dimensionality\n",
    "        # out_d - output dimensionality\n",
    "        super().__init__(name=name)\n",
    "        linear_name = None\n",
    "        if name is not None:\n",
    "            linear_name = name + '_linear'\n",
    "        self.linear = Linear(in_d, out_d, name=linear_name)\n",
    "        self.latten_2 = Flatten()\n",
    "        \n",
    "    \n",
    "    def __call__(self, x):\n",
    "        x = self.latten_2(x)\n",
    "        x = self.linear(x)\n",
    "        return tf.nn.softmax(x)"
   ]
  },
  {
   "cell_type": "code",
   "execution_count": 14,
   "metadata": {},
   "outputs": [
    {
     "name": "stdout",
     "output_type": "stream",
     "text": [
      "Instance Created\n"
     ]
    }
   ],
   "source": [
    "model = LogisticRegression(28*28,10)"
   ]
  },
  {
   "cell_type": "code",
   "execution_count": 15,
   "metadata": {},
   "outputs": [
    {
     "name": "stdout",
     "output_type": "stream",
     "text": [
      "tf.Tensor(\n",
      "[[0.10135067 0.07728327 0.0858284  0.12513931 0.12546209 0.08606731\n",
      "  0.09718133 0.10812521 0.10544957 0.08811282]], shape=(1, 10), dtype=float32)\n",
      "tf.Tensor([4], shape=(1,), dtype=int64)\n"
     ]
    },
    {
     "name": "stderr",
     "output_type": "stream",
     "text": [
      "2022-05-29 05:34:18.732426: I tensorflow/stream_executor/cuda/cuda_blas.cc:1786] TensorFloat-32 will be used for the matrix multiplication. This will only be logged once.\n"
     ]
    },
    {
     "data": {
      "image/png": "[encoded data removed]",
      "text/plain": [
       "<Figure size 432x288 with 1 Axes>"
      ]
     },
     "metadata": {
      "needs_background": "light"
     },
     "output_type": "display_data"
    }
   ],
   "source": [
    "n =121\n",
    "plt.imshow(dataset_test[1][n])\n",
    "preds_test = model(dataset_test[1][n])\n",
    "print(preds_test)\n",
    "preds_test = tf.argmax(preds_test, axis=-1)\n",
    "print(preds_test)"
   ]
  },
  {
   "cell_type": "markdown",
   "metadata": {},
   "source": [
    "#### 7 Напишите функцию оценки точности модели evaluate. \n",
    "\n",
    "Список её аргументов: тестовый tf.Dataset, модель. \n",
    "Данная функция будет отличаться оной из лекций тем, что внутри неё не будет ручной выборки батчей из датасета, поскольку tf.Dataset уже делает это за нас."
   ]
  },
  {
   "cell_type": "code",
   "execution_count": 16,
   "metadata": {},
   "outputs": [],
   "source": [
    "def accuracy(y_true, y_pred):\n",
    "    eq = tf.cast(y_true == y_pred, 'float32')\n",
    "    return tf.reduce_mean(eq)\n",
    "    \n",
    "def evaluate(model, dataset_test):\n",
    "    \"\"\"\n",
    "    Функция тестирования модели.\n",
    "    \"\"\"\n",
    "    y_preds = []\n",
    "    for i in tqdm(dataset_test):\n",
    "        preds = model(i)\n",
    "        preds = tf.argmax(preds, axis=-1)\n",
    "        y_preds.append(preds)\n",
    "        \n",
    "\n",
    "    y_preds = tf.concat(y_preds, axis=0)\n",
    "    return accuracy(y_test, y_preds).numpy()"
   ]
  },
  {
   "cell_type": "markdown",
   "metadata": {},
   "source": [
    "#### 8 Напишите функцию обучающего шага train_step. \n",
    "\n",
    "Данная функция будет немного отличаться от показанной в лекции тем, что ей на вход также дается функция ошибки. \n",
    "\n",
    "Полный список аргументов: модель, тупл данных (батч картинок, батч меток), оптимизатор, функция ошибки. Функция train_step должна возвращать вычисленное значение функции ошибки.\n",
    "\n",
    "В данной лабораторной функция ошибки не будет писаться заново, будет использоваться готовая кросс-энтропия из Keras."
   ]
  },
  {
   "cell_type": "code",
   "execution_count": 17,
   "metadata": {},
   "outputs": [],
   "source": [
    "\n",
    "def cross_entropy(labels, preds):\n",
    "    \"\"\"\n",
    "    Вычисляет значение перекрестной энтропии (Cross-Entropy) - классическая\n",
    "    функция ошибки, используемая в задаче классификации.\n",
    "    \"\"\"\n",
    "    # Прибавление константы для улучшения численной стабильности.\n",
    "    # Если не прибавлять маленькое чисто, то возможно появление nan\n",
    "    log = tf.math.log(preds + 1e-4)\n",
    "    onehot = tf.one_hot(labels, depth=N_CLASSES, dtype='float32')\n",
    "    log = log * onehot\n",
    "    log = tf.reduce_sum(log, axis=-1)\n",
    "    return -tf.reduce_mean(log)\n",
    "\n",
    "\n",
    "def train_step(model, data, optim,fonk_oshibk):\n",
    "    \"\"\"\n",
    "    Функция, производящая один обучающий шаг.\n",
    "    \"\"\"\n",
    "    with tf.GradientTape() as tape:\n",
    "        # \"Прогон\" данных через модель и вычисление значения функции ошибки\n",
    "        x, y = data\n",
    "        preds = model(x)\n",
    "        #print(x, preds,y)\n",
    "        loss = fonk_oshibk(y, preds)\n",
    "    # Вычисление градиентов\n",
    "    grads = tape.gradient(loss, model.trainable_variables)\n",
    "    # Применение градиентов к весам\n",
    "    optim.apply_gradients(zip(grads, model.trainable_variables))\n",
    "    return loss"
   ]
  },
  {
   "cell_type": "markdown",
   "metadata": {},
   "source": [
    "#### 9 Оцените точность модели."
   ]
  },
  {
   "cell_type": "code",
   "execution_count": 18,
   "metadata": {},
   "outputs": [
    {
     "name": "stderr",
     "output_type": "stream",
     "text": [
      "100%|██████████| 79/79 [00:00<00:00, 933.66it/s]"
     ]
    },
    {
     "name": "stdout",
     "output_type": "stream",
     "text": [
      "Точность 8.97 %\n"
     ]
    },
    {
     "name": "stderr",
     "output_type": "stream",
     "text": [
      "\n"
     ]
    }
   ],
   "source": [
    "acc = evaluate(model, dataset_test)\n",
    "print('Точность', round(acc * 100, 2), '%')"
   ]
  },
  {
   "cell_type": "markdown",
   "metadata": {},
   "source": [
    "#### 10 Подготовьте гиперпараметры обучения: оптимизатор, функция ошибки"
   ]
  },
  {
   "cell_type": "code",
   "execution_count": 21,
   "metadata": {},
   "outputs": [],
   "source": [
    "# Гиперпараметры обучения\n",
    "\n",
    "optim = tf.optimizers.Adam(learning_rate=0.005)\n",
    "N_CLASSES = 10\n",
    "EPOCHS = 5\n",
    "BATCH_SIZE = 128\n",
    "\n",
    "n_batches = x_train.shape[0] // BATCH_SIZE\n",
    "print_period = 100"
   ]
  },
  {
   "cell_type": "markdown",
   "metadata": {},
   "source": [
    "####11 Напишите обучающий цикл. Цикл состоит из внешнего цикла, что отсчитывает эпохи, и вложенного, что итерируется по обучающему датасету. \n",
    "\n",
    "Во вложенном цикле должна вызываться функция train_step. Каждую эпоху модель должна тестироваться функцией evaluate. Должны выводиться номер эпохи, значение ошибки и точности. Сохраняйте значения ошибки и точности в списки. Обучите модель. По ходу обучения подбирайте более оптимальные гиперпараметры обучения (learning_rate, другой оптимизатор)."
   ]
  },
  {
   "cell_type": "code",
   "execution_count": 22,
   "metadata": {},
   "outputs": [
    {
     "name": "stderr",
     "output_type": "stream",
     "text": [
      "  0%|          | 0/468 [00:00<?, ?it/s]2022-05-29 05:34:48.994381: W tensorflow/python/util/util.cc:368] Sets are not currently considered sequences, but this may change in the future, so consider avoiding using them.\n",
      "  5%|▍         | 22/468 [00:00<00:04, 108.29it/s]"
     ]
    },
    {
     "name": "stdout",
     "output_type": "stream",
     "text": [
      "Epoch: 0 Iteration: 0 Loss: 2.295751\n"
     ]
    },
    {
     "name": "stderr",
     "output_type": "stream",
     "text": [
      " 25%|██▌       | 117/468 [00:00<00:02, 154.94it/s]"
     ]
    },
    {
     "name": "stdout",
     "output_type": "stream",
     "text": [
      "Epoch: 0 Iteration: 100 Loss: 0.18593124\n"
     ]
    },
    {
     "name": "stderr",
     "output_type": "stream",
     "text": [
      " 47%|████▋     | 221/468 [00:01<00:01, 168.60it/s]"
     ]
    },
    {
     "name": "stdout",
     "output_type": "stream",
     "text": [
      "Epoch: 0 Iteration: 200 Loss: 0.55288565\n"
     ]
    },
    {
     "name": "stderr",
     "output_type": "stream",
     "text": [
      " 69%|██████▉   | 325/468 [00:02<00:00, 167.76it/s]"
     ]
    },
    {
     "name": "stdout",
     "output_type": "stream",
     "text": [
      "Epoch: 0 Iteration: 300 Loss: 0.19133258\n"
     ]
    },
    {
     "name": "stderr",
     "output_type": "stream",
     "text": [
      " 92%|█████████▏| 430/468 [00:02<00:00, 171.09it/s]"
     ]
    },
    {
     "name": "stdout",
     "output_type": "stream",
     "text": [
      "Epoch: 0 Iteration: 400 Loss: 0.2787677\n"
     ]
    },
    {
     "name": "stderr",
     "output_type": "stream",
     "text": [
      "100%|██████████| 468/468 [00:02<00:00, 159.48it/s]\n"
     ]
    },
    {
     "name": "stdout",
     "output_type": "stream",
     "text": [
      "Тестирование модели...\n"
     ]
    },
    {
     "name": "stderr",
     "output_type": "stream",
     "text": [
      "100%|██████████| 79/79 [00:00<00:00, 997.21it/s]\n"
     ]
    },
    {
     "name": "stdout",
     "output_type": "stream",
     "text": [
      "Epoch: 0 Accuracy: 0.9175\n"
     ]
    },
    {
     "name": "stderr",
     "output_type": "stream",
     "text": [
      "  4%|▍         | 18/468 [00:00<00:02, 172.41it/s]"
     ]
    },
    {
     "name": "stdout",
     "output_type": "stream",
     "text": [
      "Epoch: 1 Iteration: 0 Loss: 0.20541503\n"
     ]
    },
    {
     "name": "stderr",
     "output_type": "stream",
     "text": [
      " 26%|██▌       | 121/468 [00:00<00:02, 162.10it/s]"
     ]
    },
    {
     "name": "stdout",
     "output_type": "stream",
     "text": [
      "Epoch: 1 Iteration: 100 Loss: 0.116810314\n"
     ]
    },
    {
     "name": "stderr",
     "output_type": "stream",
     "text": [
      " 48%|████▊     | 226/468 [00:01<00:01, 164.51it/s]"
     ]
    },
    {
     "name": "stdout",
     "output_type": "stream",
     "text": [
      "Epoch: 1 Iteration: 200 Loss: 0.5327829\n"
     ]
    },
    {
     "name": "stderr",
     "output_type": "stream",
     "text": [
      " 70%|███████   | 328/468 [00:02<00:00, 159.43it/s]"
     ]
    },
    {
     "name": "stdout",
     "output_type": "stream",
     "text": [
      "Epoch: 1 Iteration: 300 Loss: 0.1857749\n"
     ]
    },
    {
     "name": "stderr",
     "output_type": "stream",
     "text": [
      " 92%|█████████▏| 432/468 [00:02<00:00, 166.91it/s]"
     ]
    },
    {
     "name": "stdout",
     "output_type": "stream",
     "text": [
      "Epoch: 1 Iteration: 400 Loss: 0.2619469\n"
     ]
    },
    {
     "name": "stderr",
     "output_type": "stream",
     "text": [
      "100%|██████████| 468/468 [00:02<00:00, 160.53it/s]\n"
     ]
    },
    {
     "name": "stdout",
     "output_type": "stream",
     "text": [
      "Тестирование модели...\n"
     ]
    },
    {
     "name": "stderr",
     "output_type": "stream",
     "text": [
      "100%|██████████| 79/79 [00:00<00:00, 1039.64it/s]\n"
     ]
    },
    {
     "name": "stdout",
     "output_type": "stream",
     "text": [
      "Epoch: 1 Accuracy: 0.9206\n"
     ]
    },
    {
     "name": "stderr",
     "output_type": "stream",
     "text": [
      "  4%|▎         | 17/468 [00:00<00:02, 169.70it/s]"
     ]
    },
    {
     "name": "stdout",
     "output_type": "stream",
     "text": [
      "Epoch: 2 Iteration: 0 Loss: 0.19941708\n"
     ]
    },
    {
     "name": "stderr",
     "output_type": "stream",
     "text": [
      " 27%|██▋       | 125/468 [00:00<00:02, 169.83it/s]"
     ]
    },
    {
     "name": "stdout",
     "output_type": "stream",
     "text": [
      "Epoch: 2 Iteration: 100 Loss: 0.11177494\n"
     ]
    },
    {
     "name": "stderr",
     "output_type": "stream",
     "text": [
      " 49%|████▊     | 228/468 [00:01<00:01, 162.74it/s]"
     ]
    },
    {
     "name": "stdout",
     "output_type": "stream",
     "text": [
      "Epoch: 2 Iteration: 200 Loss: 0.52265006\n"
     ]
    },
    {
     "name": "stderr",
     "output_type": "stream",
     "text": [
      " 72%|███████▏  | 335/468 [00:01<00:00, 173.73it/s]"
     ]
    },
    {
     "name": "stdout",
     "output_type": "stream",
     "text": [
      "Epoch: 2 Iteration: 300 Loss: 0.17844942\n"
     ]
    },
    {
     "name": "stderr",
     "output_type": "stream",
     "text": [
      " 91%|█████████ | 425/468 [00:02<00:00, 174.33it/s]"
     ]
    },
    {
     "name": "stdout",
     "output_type": "stream",
     "text": [
      "Epoch: 2 Iteration: 400 Loss: 0.25795868\n"
     ]
    },
    {
     "name": "stderr",
     "output_type": "stream",
     "text": [
      "100%|██████████| 468/468 [00:02<00:00, 167.20it/s]\n"
     ]
    },
    {
     "name": "stdout",
     "output_type": "stream",
     "text": [
      "Тестирование модели...\n"
     ]
    },
    {
     "name": "stderr",
     "output_type": "stream",
     "text": [
      "100%|██████████| 79/79 [00:00<00:00, 1081.98it/s]\n"
     ]
    },
    {
     "name": "stdout",
     "output_type": "stream",
     "text": [
      "Epoch: 2 Accuracy: 0.921\n"
     ]
    },
    {
     "name": "stderr",
     "output_type": "stream",
     "text": [
      "  3%|▎         | 16/468 [00:00<00:02, 159.84it/s]"
     ]
    },
    {
     "name": "stdout",
     "output_type": "stream",
     "text": [
      "Epoch: 3 Iteration: 0 Loss: 0.19447523\n"
     ]
    },
    {
     "name": "stderr",
     "output_type": "stream",
     "text": [
      " 28%|██▊       | 133/468 [00:00<00:02, 159.18it/s]"
     ]
    },
    {
     "name": "stdout",
     "output_type": "stream",
     "text": [
      "Epoch: 3 Iteration: 100 Loss: 0.10499449\n"
     ]
    },
    {
     "name": "stderr",
     "output_type": "stream",
     "text": [
      " 47%|████▋     | 218/468 [00:01<00:01, 165.37it/s]"
     ]
    },
    {
     "name": "stdout",
     "output_type": "stream",
     "text": [
      "Epoch: 3 Iteration: 200 Loss: 0.51954967\n"
     ]
    },
    {
     "name": "stderr",
     "output_type": "stream",
     "text": [
      " 69%|██████▉   | 325/468 [00:01<00:00, 170.72it/s]"
     ]
    },
    {
     "name": "stdout",
     "output_type": "stream",
     "text": [
      "Epoch: 3 Iteration: 300 Loss: 0.17278858\n"
     ]
    },
    {
     "name": "stderr",
     "output_type": "stream",
     "text": [
      " 92%|█████████▏| 432/468 [00:02<00:00, 166.69it/s]"
     ]
    },
    {
     "name": "stdout",
     "output_type": "stream",
     "text": [
      "Epoch: 3 Iteration: 400 Loss: 0.2590179\n"
     ]
    },
    {
     "name": "stderr",
     "output_type": "stream",
     "text": [
      "100%|██████████| 468/468 [00:02<00:00, 162.79it/s]\n"
     ]
    },
    {
     "name": "stdout",
     "output_type": "stream",
     "text": [
      "Тестирование модели...\n"
     ]
    },
    {
     "name": "stderr",
     "output_type": "stream",
     "text": [
      "100%|██████████| 79/79 [00:00<00:00, 1075.93it/s]\n"
     ]
    },
    {
     "name": "stdout",
     "output_type": "stream",
     "text": [
      "Epoch: 3 Accuracy: 0.9204\n"
     ]
    },
    {
     "name": "stderr",
     "output_type": "stream",
     "text": [
      "  3%|▎         | 15/468 [00:00<00:03, 147.45it/s]"
     ]
    },
    {
     "name": "stdout",
     "output_type": "stream",
     "text": [
      "Epoch: 4 Iteration: 0 Loss: 0.1879938\n"
     ]
    },
    {
     "name": "stderr",
     "output_type": "stream",
     "text": [
      " 28%|██▊       | 131/468 [00:00<00:02, 161.07it/s]"
     ]
    },
    {
     "name": "stdout",
     "output_type": "stream",
     "text": [
      "Epoch: 4 Iteration: 100 Loss: 0.097691216\n"
     ]
    },
    {
     "name": "stderr",
     "output_type": "stream",
     "text": [
      " 47%|████▋     | 218/468 [00:01<00:01, 167.18it/s]"
     ]
    },
    {
     "name": "stdout",
     "output_type": "stream",
     "text": [
      "Epoch: 4 Iteration: 200 Loss: 0.5211884\n"
     ]
    },
    {
     "name": "stderr",
     "output_type": "stream",
     "text": [
      " 70%|██████▉   | 326/468 [00:01<00:00, 171.51it/s]"
     ]
    },
    {
     "name": "stdout",
     "output_type": "stream",
     "text": [
      "Epoch: 4 Iteration: 300 Loss: 0.16772424\n"
     ]
    },
    {
     "name": "stderr",
     "output_type": "stream",
     "text": [
      " 93%|█████████▎| 434/468 [00:02<00:00, 169.25it/s]"
     ]
    },
    {
     "name": "stdout",
     "output_type": "stream",
     "text": [
      "Epoch: 4 Iteration: 400 Loss: 0.2624412\n"
     ]
    },
    {
     "name": "stderr",
     "output_type": "stream",
     "text": [
      "100%|██████████| 468/468 [00:02<00:00, 163.19it/s]\n"
     ]
    },
    {
     "name": "stdout",
     "output_type": "stream",
     "text": [
      "Тестирование модели...\n"
     ]
    },
    {
     "name": "stderr",
     "output_type": "stream",
     "text": [
      "100%|██████████| 79/79 [00:00<00:00, 1031.18it/s]"
     ]
    },
    {
     "name": "stdout",
     "output_type": "stream",
     "text": [
      "Epoch: 4 Accuracy: 0.9203\n"
     ]
    },
    {
     "name": "stderr",
     "output_type": "stream",
     "text": [
      "\n"
     ]
    }
   ],
   "source": [
    "# Цикл обучения\n",
    "take_data = lambda i: (dataset_train[i], y_train[i*BATCH_SIZE:(i+1)*BATCH_SIZE])\n",
    "\n",
    "loss_data = []\n",
    "acc_data = []\n",
    "for epoch in range(EPOCHS):\n",
    "    # Перемешивание данных. Очень часто это позволяет повысить точность модели.\n",
    "    # Рекомендуется перемешивать данные всегда!  dataset_train[i]\n",
    "    \n",
    "    for i in tqdm(range(len(dataset_train)-1)):\n",
    "        data = take_data(i)\n",
    "        loss = train_step(model, data, optim, cross_entropy)\n",
    "        if i % print_period == 0:\n",
    "            print('Epoch:', epoch, 'Iteration:', i, 'Loss:', loss.numpy())\n",
    "        loss_data.append(loss.numpy())\n",
    "    print('Тестирование модели...')\n",
    "    acc = evaluate(model, dataset_test)\n",
    "    print('Epoch:', epoch, 'Accuracy:', acc)\n",
    "    acc_data.append(acc)"
   ]
  },
  {
   "cell_type": "markdown",
   "metadata": {},
   "source": [
    "#### 12 Выведите графики точности и ошибки, используя matplotlib."
   ]
  },
  {
   "cell_type": "code",
   "execution_count": 23,
   "metadata": {},
   "outputs": [
    {
     "name": "stdout",
     "output_type": "stream",
     "text": [
      "2340\n",
      "5\n"
     ]
    }
   ],
   "source": [
    "v_1 = np.arange(0, len(loss_data), 1)\n",
    "print(len(v_1))\n",
    "v_2 = np.arange(0, len(acc_data), 1)\n",
    "print(len(v_2))"
   ]
  },
  {
   "cell_type": "code",
   "execution_count": 24,
   "metadata": {},
   "outputs": [
    {
     "data": {
      "image/png": "[encoded data removed]",
      "text/plain": [
       "<Figure size 432x288 with 1 Axes>"
      ]
     },
     "metadata": {
      "needs_background": "light"
     },
     "output_type": "display_data"
    },
    {
     "data": {
      "image/png": "[encoded data removed]",
      "text/plain": [
       "<Figure size 432x288 with 1 Axes>"
      ]
     },
     "metadata": {
      "needs_background": "light"
     },
     "output_type": "display_data"
    }
   ],
   "source": [
    "#График лосс и точности модели\n",
    "plt.plot(v_1,loss_data)\n",
    "plt.title(\"Locc\")\n",
    "plt.show()\n",
    "\n",
    "plt.plot(v_2,acc_data)\n",
    "plt.title(\"accuracy\")\n",
    "plt.show()\n"
   ]
  },
  {
   "cell_type": "markdown",
   "metadata": {},
   "source": [
    "#### 13 (Опционально) Постройте и обучите произвольную нейронную сеть с использованием Keras для решения той же задачи."
   ]
  },
  {
   "cell_type": "code",
   "execution_count": 25,
   "metadata": {},
   "outputs": [],
   "source": [
    "#Дополню чуть позже"
   ]
  },
  {
   "cell_type": "code",
   "execution_count": 116,
   "metadata": {},
   "outputs": [],
   "source": [
    "\"\"\"ckpt = tf.train.Checkpoint(model=model)\n",
    "ckpt.save('model_weights')\n",
    "\n",
    "\n",
    "\n",
    "def accuracy(y_true, y_pred):\n",
    "    eq = tf.cast(y_true == y_pred, 'float32')\n",
    "    return tf.reduce_mean(eq)\n",
    "    \n",
    "def evaluate(model, dataset_test):\n",
    "    y_preds = []\n",
    "    for i in tqdm(dataset_test): \n",
    "        preds = model(i)\n",
    "        preds = tf.argmax(preds, axis=-1)\n",
    "        y_preds.append(preds)\n",
    "\n",
    "    y_preds = tf.concat(y_preds, axis=0)\n",
    "    return accuracy(y_test, y_preds).numpy()\n",
    "\n",
    "\n",
    "model2 = LogisticRegression(28*28,10)\n",
    "\n",
    "print('До загрузки весов:', evaluate(model2, dataset_test))\n",
    "\n",
    "ckpt2 = tf.train.Checkpoint(model=model2)\n",
    "ckpt2.restore('model_weights-1')\n",
    "\n",
    "print('После загрузки весов:', evaluate(model2, dataset_test))\"\"\""
   ]
  }
 ],
 "metadata": {
  "kernelspec": {
   "display_name": "Python 3.8.10 64-bit",
   "language": "python",
   "name": "python3"
  },
  "language_info": {
   "codemirror_mode": {
    "name": "ipython",
    "version": 3
   },
   "file_extension": ".py",
   "mimetype": "text/x-python",
   "name": "python",
   "nbconvert_exporter": "python",
   "pygments_lexer": "ipython3",
   "version": "3.8.10"
  },
  "orig_nbformat": 4,
  "vscode": {
   "interpreter": {
    "hash": "31f2aee4e71d21fbe5cf8b01ff0e069b9275f58929596ceb00d14d90e3e16cd6"
   }
  }
 },
 "nbformat": 4,
 "nbformat_minor": 2
}
