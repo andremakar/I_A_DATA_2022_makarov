{
 "cells": [
  {
   "cell_type": "code",
   "execution_count": 1,
   "metadata": {},
   "outputs": [],
   "source": [
    "import tensorflow as tf\n",
    "import numpy as np\n",
    "import matplotlib.pyplot as plt\n",
    "from tqdm import tqdm\n",
    "from sklearn.utils import shuffle\n",
    "%matplotlib inline\n",
    "from tensorflow.keras.datasets import mnist"
   ]
  },
  {
   "cell_type": "code",
   "execution_count": 2,
   "metadata": {},
   "outputs": [
    {
     "name": "stderr",
     "output_type": "stream",
     "text": [
      "2022-06-06 01:16:39.335249: I tensorflow/stream_executor/cuda/cuda_gpu_executor.cc:936] successful NUMA node read from SysFS had negative value (-1), but there must be at least one NUMA node, so returning NUMA node zero\n",
      "2022-06-06 01:16:39.343479: I tensorflow/stream_executor/cuda/cuda_gpu_executor.cc:936] successful NUMA node read from SysFS had negative value (-1), but there must be at least one NUMA node, so returning NUMA node zero\n",
      "2022-06-06 01:16:39.343879: I tensorflow/stream_executor/cuda/cuda_gpu_executor.cc:936] successful NUMA node read from SysFS had negative value (-1), but there must be at least one NUMA node, so returning NUMA node zero\n"
     ]
    },
    {
     "data": {
      "text/plain": [
       "[PhysicalDevice(name='/physical_device:CPU:0', device_type='CPU'),\n",
       " PhysicalDevice(name='/physical_device:GPU:0', device_type='GPU')]"
      ]
     },
     "execution_count": 2,
     "metadata": {},
     "output_type": "execute_result"
    }
   ],
   "source": [
    "# Инициализировали карточку\n",
    "tf.config.list_physical_devices()"
   ]
  },
  {
   "cell_type": "code",
   "execution_count": 3,
   "metadata": {},
   "outputs": [],
   "source": [
    "(x_train, y_train), (x_test, y_test) = mnist.load_data()"
   ]
  },
  {
   "cell_type": "code",
   "execution_count": 4,
   "metadata": {},
   "outputs": [
    {
     "name": "stderr",
     "output_type": "stream",
     "text": [
      "2022-06-06 01:21:16.136539: I tensorflow/core/platform/cpu_feature_guard.cc:151] This TensorFlow binary is optimized with oneAPI Deep Neural Network Library (oneDNN) to use the following CPU instructions in performance-critical operations:  AVX2 FMA\n",
      "To enable them in other operations, rebuild TensorFlow with the appropriate compiler flags.\n",
      "2022-06-06 01:21:16.137392: I tensorflow/stream_executor/cuda/cuda_gpu_executor.cc:936] successful NUMA node read from SysFS had negative value (-1), but there must be at least one NUMA node, so returning NUMA node zero\n",
      "2022-06-06 01:21:16.137902: I tensorflow/stream_executor/cuda/cuda_gpu_executor.cc:936] successful NUMA node read from SysFS had negative value (-1), but there must be at least one NUMA node, so returning NUMA node zero\n",
      "2022-06-06 01:21:16.138745: I tensorflow/stream_executor/cuda/cuda_gpu_executor.cc:936] successful NUMA node read from SysFS had negative value (-1), but there must be at least one NUMA node, so returning NUMA node zero\n",
      "2022-06-06 01:21:16.581828: I tensorflow/stream_executor/cuda/cuda_gpu_executor.cc:936] successful NUMA node read from SysFS had negative value (-1), but there must be at least one NUMA node, so returning NUMA node zero\n",
      "2022-06-06 01:21:16.582092: I tensorflow/stream_executor/cuda/cuda_gpu_executor.cc:936] successful NUMA node read from SysFS had negative value (-1), but there must be at least one NUMA node, so returning NUMA node zero\n",
      "2022-06-06 01:21:16.582409: I tensorflow/stream_executor/cuda/cuda_gpu_executor.cc:936] successful NUMA node read from SysFS had negative value (-1), but there must be at least one NUMA node, so returning NUMA node zero\n",
      "2022-06-06 01:21:16.582625: I tensorflow/core/common_runtime/gpu/gpu_device.cc:1525] Created device /job:localhost/replica:0/task:0/device:GPU:0 with 1734 MB memory:  -> device: 0, name: NVIDIA GeForce RTX 3050 Laptop GPU, pci bus id: 0000:01:00.0, compute capability: 8.6\n"
     ]
    }
   ],
   "source": [
    "train_dataset = tf.data.Dataset.from_tensor_slices((x_train, y_train))"
   ]
  },
  {
   "cell_type": "code",
   "execution_count": 5,
   "metadata": {},
   "outputs": [],
   "source": [
    "# Получим итератор\n",
    "data_iter = iter(train_dataset)\n",
    "\n",
    "# Получим одну пару (картинка, метка)\n",
    "x, y = next(data_iter)"
   ]
  },
  {
   "cell_type": "code",
   "execution_count": 6,
   "metadata": {},
   "outputs": [
    {
     "data": {
      "text/plain": [
       "(TensorShape([28, 28]),\n",
       " TensorShape([]),\n",
       " tensorflow.python.framework.ops.EagerTensor,\n",
       " tensorflow.python.framework.ops.EagerTensor)"
      ]
     },
     "execution_count": 6,
     "metadata": {},
     "output_type": "execute_result"
    }
   ],
   "source": [
    "# Заметьте, что итератор возвратил TensorFlow тензоры, а не Numpy массивы \n",
    "x.shape, y.shape, type(x), type(y)"
   ]
  },
  {
   "cell_type": "code",
   "execution_count": 7,
   "metadata": {},
   "outputs": [
    {
     "data": {
      "text/plain": [
       "TensorShape([128, 28, 28])"
      ]
     },
     "execution_count": 7,
     "metadata": {},
     "output_type": "execute_result"
    }
   ],
   "source": [
    "# Вызов методов создаёт новый объект датасета, а не модифицирует исходный!\n",
    "train_dataset = train_dataset.shuffle(buffer_size=len(x_train), reshuffle_each_iteration=True)\n",
    "\n",
    "# drop_remainder=True говорит датасету не возвращать оставшийся кусок данных, если в нем содержится меньше 128 элементов\n",
    "train_dataset = train_dataset.batch(128, drop_remainder=True)\n",
    "\n",
    "next(iter(train_dataset))[0].shape"
   ]
  },
  {
   "cell_type": "code",
   "execution_count": 8,
   "metadata": {},
   "outputs": [],
   "source": [
    "def normalize(x, y):\n",
    "    x = tf.cast(x, dtype='float32')\n",
    "    x = x / 255.\n",
    "    return x, y\n",
    "\n",
    "\n",
    "def reshape(x, y):\n",
    "    x = tf.reshape(x, shape=[-1, 28*28])\n",
    "    return x, y"
   ]
  },
  {
   "cell_type": "code",
   "execution_count": 9,
   "metadata": {},
   "outputs": [
    {
     "data": {
      "text/plain": [
       "TensorShape([128, 784])"
      ]
     },
     "execution_count": 9,
     "metadata": {},
     "output_type": "execute_result"
    }
   ],
   "source": [
    "# Трансформации могут применяться параллельно на нескольких элементах!\n",
    "train_dataset = train_dataset.map(normalize, num_parallel_calls=-1)\n",
    "train_dataset = train_dataset.map(reshape, num_parallel_calls=-1)\n",
    "# Говорит датасету всегда иметь на готове 8 батчей\n",
    "train_dataset = train_dataset.prefetch(8)\n",
    "\n",
    "next(iter(train_dataset))[0].shape"
   ]
  },
  {
   "cell_type": "code",
   "execution_count": 10,
   "metadata": {},
   "outputs": [
    {
     "name": "stdout",
     "output_type": "stream",
     "text": [
      "Epoch: 0\n",
      "Epoch: 1\n",
      "Epoch: 2\n",
      "Epoch: 3\n",
      "Epoch: 4\n"
     ]
    }
   ],
   "source": [
    "EPOCHS = 5\n",
    "for epoch in range(EPOCHS):\n",
    "    for x_batch, y_batch in train_dataset:\n",
    "        # do something 1\n",
    "        # do something 2\n",
    "        pass\n",
    "    print('Epoch:', epoch)"
   ]
  },
  {
   "cell_type": "code",
   "execution_count": 11,
   "metadata": {},
   "outputs": [
    {
     "data": {
      "text/plain": [
       "TensorShape([128, 784])"
      ]
     },
     "execution_count": 11,
     "metadata": {},
     "output_type": "execute_result"
    }
   ],
   "source": [
    "# Создадим также датасет для тестирования модели\n",
    "test_dataset = tf.data.Dataset.from_tensor_slices((x_test, y_test))\n",
    "\n",
    "# drop_remainder в данном случае не установлен, поскольку мы хотим протестировать модель на всех экземплярах данных.\n",
    "# Почему drop_remainder использовался выше? Опять-таки, для демонстрации, что это есть\n",
    "test_dataset = test_dataset.batch(128)\n",
    "test_dataset = test_dataset.map(normalize, num_parallel_calls=-1)\n",
    "test_dataset = test_dataset.map(reshape, num_parallel_calls=-1)\n",
    "\n",
    "next(iter(test_dataset))[0].shape"
   ]
  },
  {
   "cell_type": "code",
   "execution_count": 12,
   "metadata": {},
   "outputs": [],
   "source": [
    "import tensorflow.keras as K\n",
    "import tensorflow.keras.layers as L"
   ]
  },
  {
   "cell_type": "code",
   "execution_count": 13,
   "metadata": {},
   "outputs": [],
   "source": [
    "class LinearReLU(L.Layer):\n",
    "    def __init__(self, out_d, name=None):\n",
    "        super().__init__(name=name)\n",
    "        self.linear = L.Dense(units=out_d)\n",
    "        self.relu = L.ReLU()\n",
    "    \n",
    "    def call(self, x):\n",
    "        x = self.linear(x)\n",
    "        # Можно также использовать и tf.nn.relu\n",
    "        return self.relu(x)"
   ]
  },
  {
   "cell_type": "code",
   "execution_count": 14,
   "metadata": {},
   "outputs": [],
   "source": [
    "# Заметьте, что этому слою не нужно предоставлять информацию в размерности входных данных.\n",
    "# Слои в Keras получат информацию о размерности данных во время первого вызова\n",
    "linear_relu = LinearReLU(10)"
   ]
  },
  {
   "cell_type": "code",
   "execution_count": 15,
   "metadata": {},
   "outputs": [
    {
     "name": "stdout",
     "output_type": "stream",
     "text": [
      "0\n"
     ]
    }
   ],
   "source": [
    "# Весов пока что нет\n",
    "print(len(linear_relu.variables))"
   ]
  },
  {
   "cell_type": "code",
   "execution_count": 16,
   "metadata": {},
   "outputs": [
    {
     "name": "stderr",
     "output_type": "stream",
     "text": [
      "2022-06-06 01:28:02.368496: W tensorflow/python/util/util.cc:368] Sets are not currently considered sequences, but this may change in the future, so consider avoiding using them.\n"
     ]
    },
    {
     "data": {
      "text/plain": [
       "(<keras.layers.core.dense.Dense at 0x7fd1181c7760>,\n",
       " <keras.layers.advanced_activations.ReLU at 0x7fd118190e50>)"
      ]
     },
     "execution_count": 16,
     "metadata": {},
     "output_type": "execute_result"
    }
   ],
   "source": [
    "# Модули\n",
    "linear_relu.submodules"
   ]
  },
  {
   "cell_type": "code",
   "execution_count": 17,
   "metadata": {},
   "outputs": [
    {
     "name": "stderr",
     "output_type": "stream",
     "text": [
      "2022-06-06 01:28:08.643515: I tensorflow/stream_executor/cuda/cuda_blas.cc:1786] TensorFloat-32 will be used for the matrix multiplication. This will only be logged once.\n"
     ]
    },
    {
     "data": {
      "text/plain": [
       "<tf.Tensor: shape=(1, 10), dtype=float32, numpy=\n",
       "array([[0.        , 0.        , 1.342301  , 0.        , 1.2422862 ,\n",
       "        0.18055627, 0.30633855, 0.23065552, 0.42221573, 0.34575912]],\n",
       "      dtype=float32)>"
      ]
     },
     "execution_count": 17,
     "metadata": {},
     "output_type": "execute_result"
    }
   ],
   "source": [
    "# При первом вызове слои инициализируют свои веса, используя информацию\n",
    "# о размерности входных тензоров.\n",
    "linear_relu(np.random.randn(1, 10).astype('float32'))"
   ]
  },
  {
   "cell_type": "code",
   "execution_count": 18,
   "metadata": {},
   "outputs": [
    {
     "name": "stdout",
     "output_type": "stream",
     "text": [
      "2\n"
     ]
    }
   ],
   "source": [
    "# Теперь веса есть.\n",
    "print(len(linear_relu.variables))"
   ]
  },
  {
   "cell_type": "code",
   "execution_count": 57,
   "metadata": {},
   "outputs": [],
   "source": [
    "#Построим аналогичную модель, используя Keras\n",
    "\n",
    "class NN(K.Model):\n",
    "    def __init__(self, dim=256, n_classes=10, name='neural_network'):\n",
    "        super().__init__(name=name)\n",
    "        self.input_layer = L.Dense(units=dim, activation='sigmoid', name='input')\n",
    "        self.input_layer2 = L.Dense(units=dim, activation='elu', name='input')\n",
    "        self.classification_head = L.Dense(units=n_classes)\n",
    "    \n",
    "    def call(self, x, training=True):\n",
    "        x = self.input_layer(x, training=training)\n",
    "        x = self.input_layer2(x, training=training)\n",
    "        x = self.classification_head(x, training=training)\n",
    "        return tf.nn.softmax(x)"
   ]
  },
  {
   "cell_type": "code",
   "execution_count": 58,
   "metadata": {},
   "outputs": [],
   "source": [
    "model = NN()"
   ]
  },
  {
   "cell_type": "code",
   "execution_count": 59,
   "metadata": {},
   "outputs": [],
   "source": [
    "x = next(iter(train_dataset))[0]"
   ]
  },
  {
   "cell_type": "code",
   "execution_count": 60,
   "metadata": {},
   "outputs": [
    {
     "data": {
      "text/plain": [
       "<tf.Tensor: shape=(128, 10), dtype=float32, numpy=\n",
       "array([[0.05970412, 0.07625766, 0.11295817, ..., 0.07240326, 0.13319908,\n",
       "        0.03042493],\n",
       "       [0.05944432, 0.10208542, 0.09062438, ..., 0.05905468, 0.10844568,\n",
       "        0.03568229],\n",
       "       [0.06060754, 0.10739748, 0.1049589 , ..., 0.06904776, 0.12525538,\n",
       "        0.02763786],\n",
       "       ...,\n",
       "       [0.05318289, 0.08877575, 0.12197378, ..., 0.07579756, 0.11667497,\n",
       "        0.0258332 ],\n",
       "       [0.04652612, 0.10505725, 0.10204452, ..., 0.06588491, 0.12494352,\n",
       "        0.03185739],\n",
       "       [0.06113286, 0.09353364, 0.10749541, ..., 0.06949957, 0.11087116,\n",
       "        0.02694851]], dtype=float32)>"
      ]
     },
     "execution_count": 60,
     "metadata": {},
     "output_type": "execute_result"
    }
   ],
   "source": [
    "model(x)"
   ]
  },
  {
   "cell_type": "code",
   "execution_count": 61,
   "metadata": {},
   "outputs": [],
   "source": [
    "loss = K.losses.SparseCategoricalCrossentropy()\n",
    "accuracy = K.metrics.SparseCategoricalAccuracy()\n",
    "optim = tf.optimizers.Adam()\n",
    "\n",
    "EPOCHS = 5"
   ]
  },
  {
   "cell_type": "code",
   "execution_count": 62,
   "metadata": {},
   "outputs": [],
   "source": [
    "model.compile(optimizer=optim, loss=loss, metrics=[accuracy])"
   ]
  },
  {
   "cell_type": "code",
   "execution_count": 63,
   "metadata": {},
   "outputs": [
    {
     "name": "stdout",
     "output_type": "stream",
     "text": [
      "Epoch 1/5\n",
      "468/468 [==============================] - 2s 4ms/step - loss: 0.4439 - sparse_categorical_accuracy: 0.8698 - val_loss: 0.2584 - val_sparse_categorical_accuracy: 0.9240\n",
      "Epoch 2/5\n",
      "468/468 [==============================] - 2s 4ms/step - loss: 0.2256 - sparse_categorical_accuracy: 0.9330 - val_loss: 0.1901 - val_sparse_categorical_accuracy: 0.9445\n",
      "Epoch 3/5\n",
      "468/468 [==============================] - 2s 4ms/step - loss: 0.1614 - sparse_categorical_accuracy: 0.9523 - val_loss: 0.1318 - val_sparse_categorical_accuracy: 0.9596\n",
      "Epoch 4/5\n",
      "468/468 [==============================] - 2s 4ms/step - loss: 0.1198 - sparse_categorical_accuracy: 0.9642 - val_loss: 0.1168 - val_sparse_categorical_accuracy: 0.9642\n",
      "Epoch 5/5\n",
      "468/468 [==============================] - 2s 4ms/step - loss: 0.0937 - sparse_categorical_accuracy: 0.9716 - val_loss: 0.0995 - val_sparse_categorical_accuracy: 0.9708\n"
     ]
    }
   ],
   "source": [
    "info = model.fit(train_dataset, epochs=EPOCHS, validation_data=test_dataset)"
   ]
  },
  {
   "cell_type": "code",
   "execution_count": 64,
   "metadata": {},
   "outputs": [
    {
     "data": {
      "text/plain": [
       "<matplotlib.legend.Legend at 0x7fd0cc4a1a60>"
      ]
     },
     "execution_count": 64,
     "metadata": {},
     "output_type": "execute_result"
    },
    {
     "data": {
      "image/png": "[encoded data removed]",
      "text/plain": [
       "<Figure size 432x288 with 1 Axes>"
      ]
     },
     "metadata": {
      "needs_background": "light"
     },
     "output_type": "display_data"
    }
   ],
   "source": [
    "import matplotlib.pyplot as plt\n",
    "%matplotlib inline\n",
    "\n",
    "plt.plot(info.history['loss'], label='loss')\n",
    "plt.plot(info.history['sparse_categorical_accuracy'], label='accuracy')\n",
    "plt.legend()"
   ]
  },
  {
   "cell_type": "code",
   "execution_count": 65,
   "metadata": {},
   "outputs": [
    {
     "name": "stdout",
     "output_type": "stream",
     "text": [
      "79/79 [==============================] - 0s 3ms/step - loss: 0.0995 - sparse_categorical_accuracy: 0.9708\n"
     ]
    },
    {
     "data": {
      "text/plain": [
       "[0.09949963539838791, 0.97079998254776]"
      ]
     },
     "execution_count": 65,
     "metadata": {},
     "output_type": "execute_result"
    }
   ],
   "source": [
    "# Также есть отдельный метод для тестирования\n",
    "model.evaluate(test_dataset)"
   ]
  },
  {
   "cell_type": "code",
   "execution_count": null,
   "metadata": {},
   "outputs": [],
   "source": []
  }
 ],
 "metadata": {
  "kernelspec": {
   "display_name": "Python 3.8.10 64-bit",
   "language": "python",
   "name": "python3"
  },
  "language_info": {
   "codemirror_mode": {
    "name": "ipython",
    "version": 3
   },
   "file_extension": ".py",
   "mimetype": "text/x-python",
   "name": "python",
   "nbconvert_exporter": "python",
   "pygments_lexer": "ipython3",
   "version": "3.8.10"
  },
  "orig_nbformat": 4,
  "vscode": {
   "interpreter": {
    "hash": "31f2aee4e71d21fbe5cf8b01ff0e069b9275f58929596ceb00d14d90e3e16cd6"
   }
  }
 },
 "nbformat": 4,
 "nbformat_minor": 2
}
